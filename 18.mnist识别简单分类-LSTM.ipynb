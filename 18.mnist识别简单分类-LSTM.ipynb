{
 "cells": [
  {
   "cell_type": "code",
   "execution_count": 1,
   "id": "010dae0a-ec14-4bbe-8e38-4418f3f79613",
   "metadata": {
    "tags": []
   },
   "outputs": [],
   "source": [
    "import numpy as np\n",
    "import torch\n",
    "from torch import nn, optim\n",
    "from torch.autograd import Variable\n",
    "from torchvision import datasets, transforms\n",
    "from torch.utils.data import DataLoader"
   ]
  },
  {
   "cell_type": "code",
   "execution_count": 2,
   "id": "17499625-a29a-48a9-a775-950305848cc8",
   "metadata": {
    "tags": []
   },
   "outputs": [],
   "source": [
    "# 训练集\n",
    "train_dataset = datasets.MNIST(root='./',\n",
    "                               train=True,\n",
    "                               transform=transforms.ToTensor(),\n",
    "                               download=True)\n",
    "# 测试集\n",
    "test_dataset = datasets.MNIST(root='./',\n",
    "                               train=False,\n",
    "                               transform=transforms.ToTensor(),\n",
    "                               download=True)"
   ]
  },
  {
   "cell_type": "code",
   "execution_count": 3,
   "id": "ed013657-0f53-4a75-8264-d9364f4b475f",
   "metadata": {
    "tags": []
   },
   "outputs": [],
   "source": [
    "# 批次大小\n",
    "Batch_size = 64\n",
    "\n",
    "# 装载训练集\n",
    "train_loader = DataLoader(dataset=train_dataset,\n",
    "                          batch_size=Batch_size,\n",
    "                          shuffle=True)\n",
    "\n",
    "# 装载训练集\n",
    "test_loader = DataLoader(dataset=test_dataset,\n",
    "                          batch_size=Batch_size,\n",
    "                          shuffle=True)"
   ]
  },
  {
   "cell_type": "code",
   "execution_count": 4,
   "id": "7bfd367f-0b40-48d4-8dac-1041c4519633",
   "metadata": {
    "tags": []
   },
   "outputs": [
    {
     "name": "stdout",
     "output_type": "stream",
     "text": [
      "torch.Size([64, 1, 28, 28])\n",
      "torch.Size([64])\n"
     ]
    }
   ],
   "source": [
    "for i, data in enumerate(train_loader):\n",
    "    inputs, labels = data\n",
    "    print(inputs.shape)\n",
    "    print(labels.shape)\n",
    "    break"
   ]
  },
  {
   "cell_type": "code",
   "execution_count": 5,
   "id": "8dd448c0-ff87-4502-aed8-5560441dfa45",
   "metadata": {
    "tags": []
   },
   "outputs": [
    {
     "data": {
      "text/plain": [
       "torch.Size([64, 1, 28, 28])"
      ]
     },
     "execution_count": 5,
     "metadata": {},
     "output_type": "execute_result"
    }
   ],
   "source": [
    "inputs.size()"
   ]
  },
  {
   "cell_type": "code",
   "execution_count": 6,
   "id": "05e2df2a-477a-4748-aeb9-3d506f7c9499",
   "metadata": {
    "tags": []
   },
   "outputs": [],
   "source": [
    "# 定义网络结构\n",
    "# input_size输入特征的大小\n",
    "# hidden_size，LSTM模块数量\n",
    "# num_layer,LSTM的层数\n",
    "# LSTM默认input（seq_len,batch,feature）\n",
    "# batch_first=Ture,input和output(batch,seq_len,feature)\n",
    "class LSTM(nn.Module):\n",
    "    def __init__(self):\n",
    "        super(LSTM, self).__init__()\n",
    "        self.lstm = torch.nn.LSTM(\n",
    "            input_size=28,\n",
    "            hidden_size=64,\n",
    "            num_layers=1,\n",
    "            batch_first=True\n",
    "        )\n",
    "        self.out = torch.nn.Linear(in_features=64, out_features=10)\n",
    "        self.softmax = torch.nn.Softmax(dim=1)\n",
    "\n",
    "    # (batch, seq_len, frature)\n",
    "    def forward(self, x):\n",
    "        x = x.view(-1, 28, 28)\n",
    "        # output:[batch, seq_len, hidden_size]包含每个序列的输出结果\n",
    "        # 虽然LSTM的batch——first为Ture，但是h_n, c_n的第0维度还是num_layers\n",
    "        # h_n:[num_layers, batch, hidden_size]只包含最后一个序列的输出结果\n",
    "        # c_n:[num_layers, batch, hidden_size]只包含最后一个序列的输出结果\n",
    "        output, (h_n, c_n) = self.lstm(x)\n",
    "        output_in_last_timestep = h_n[-1, :, :]\n",
    "        x = self.out(output_in_last_timestep)\n",
    "        x = self.softmax(x)\n",
    "        return x"
   ]
  },
  {
   "cell_type": "code",
   "execution_count": 7,
   "id": "b103ff07-3c94-4181-8921-9ff44c5beb63",
   "metadata": {},
   "outputs": [],
   "source": [
    "LR = 0.001\n",
    "model = LSTM()\n",
    "#model.load_state_dict(torch.load('./model/my_model.pth'))\n",
    "CrossEntropy_loss = nn.CrossEntropyLoss()\n",
    "# 定义优化器，设置L2化\n",
    "optimizer = optim.Adam(model.parameters(), LR)"
   ]
  },
  {
   "cell_type": "code",
   "execution_count": 8,
   "id": "ed48e6e8-b4c2-4bc8-8f2f-2de4ff39737b",
   "metadata": {
    "tags": []
   },
   "outputs": [],
   "source": [
    "def train():\n",
    "    # 训练状态\n",
    "    model.train()\n",
    "    for i, data in enumerate(train_loader):\n",
    "        # 获得一个批次的数据和标签\n",
    "        inputs, labels = data\n",
    "        # 获得模型预测结果(64, 10)\n",
    "        out = model(inputs)\n",
    "        # 交叉熵代价函数out(batch,C),labels(batch)\n",
    "        loss = CrossEntropy_loss(out, labels)\n",
    "        # 梯度清零\n",
    "        optimizer.zero_grad()\n",
    "        # 计算梯度\n",
    "        loss.backward()\n",
    "        # 修改权值\n",
    "        optimizer.step()\n",
    "\n",
    "\n",
    "# 用于模型测试\n",
    "def test():\n",
    "    # 模型的测试状态（此状态下，模型的dropout层不起作用，所有神经元都要工作）\n",
    "    model.eval()\n",
    "    correct = 0\n",
    "    for i, data in enumerate(test_loader):\n",
    "        # 获得一个批次的数据和标签\n",
    "        inputs, labels = data\n",
    "        # 获得模型预测结果(64, 10)\n",
    "        out = model(inputs)\n",
    "        # 获得最大值，以及最大值所在的位置\n",
    "        _, predicted = torch.max(out, 1)\n",
    "        # 预测正确的数量\n",
    "        correct += (predicted == labels).sum()\n",
    "    print(\"Test acc:{0}\".format(correct.item()/len(test_dataset)))\n",
    "\n",
    "    # 同上，将训练集合测试集的准确率都表示出来\n",
    "    correct = 0\n",
    "    for i, data in enumerate(train_loader):\n",
    "        # 获得一个批次的数据和标签\n",
    "        inputs, labels = data\n",
    "        # 获得模型预测结果(64, 10)\n",
    "        out = model(inputs)\n",
    "        # 获得最大值，以及最大值所在的位置\n",
    "        _, predicted = torch.max(out, 1)\n",
    "        # 预测正确的数量\n",
    "        correct += (predicted == labels).sum()\n",
    "    print(\"Train acc:{0}\".format(correct.item()/len(train_dataset)))"
   ]
  },
  {
   "cell_type": "markdown",
   "id": "e119bd6e-3630-46b8-87cf-6593d3b3690e",
   "metadata": {},
   "source": [
    "#### 小结：\n",
    "> 手动打出这个训练流程你会发现相对于keras这种高度集成的API，torch需要从头到尾的用代码去实现神经网络的训练过程，所以其中有很多细节可以修改，当然之后可以尝试学习autoML，可以更快的调参\n",
    "\n",
    "> 可以看出pytorch和tensorflow各有各的好处，比如tensorboard的使用，先别管先把手上的一些小任务小领域先完成"
   ]
  },
  {
   "cell_type": "code",
   "execution_count": 9,
   "id": "62b77f31-90ca-444e-bcec-0b30be019b41",
   "metadata": {
    "tags": []
   },
   "outputs": [
    {
     "name": "stdout",
     "output_type": "stream",
     "text": [
      "epoch: 0\n",
      "Test acc:0.8298\n",
      "Train acc:0.8314666666666667\n",
      "epoch: 1\n",
      "Test acc:0.939\n",
      "Train acc:0.9388333333333333\n",
      "epoch: 2\n",
      "Test acc:0.9527\n",
      "Train acc:0.9546\n",
      "epoch: 3\n",
      "Test acc:0.8961\n",
      "Train acc:0.9007166666666667\n",
      "epoch: 4\n",
      "Test acc:0.9653\n",
      "Train acc:0.9662833333333334\n",
      "epoch: 5\n",
      "Test acc:0.9617\n",
      "Train acc:0.9667333333333333\n",
      "epoch: 6\n",
      "Test acc:0.9703\n",
      "Train acc:0.9724333333333334\n",
      "epoch: 7\n",
      "Test acc:0.9633\n",
      "Train acc:0.9659666666666666\n",
      "epoch: 8\n",
      "Test acc:0.9624\n",
      "Train acc:0.9625666666666667\n",
      "epoch: 9\n",
      "Test acc:0.9721\n",
      "Train acc:0.97405\n"
     ]
    }
   ],
   "source": [
    "for epoch in range(10):\n",
    "    print('epoch:', epoch)\n",
    "    train()\n",
    "    test()"
   ]
  },
  {
   "cell_type": "code",
   "execution_count": 12,
   "id": "8742f399-4ea1-4572-849b-080d9343f1b8",
   "metadata": {},
   "outputs": [],
   "source": [
    "# 模型的保存\n",
    "torch.save(model.state_dict(), './model/my_model.pth')"
   ]
  },
  {
   "cell_type": "markdown",
   "id": "01950417-e99d-48aa-ab36-59aedd53e5ee",
   "metadata": {},
   "source": []
  },
  {
   "cell_type": "markdown",
   "id": "b45a40f0-5a28-4163-bd87-63961387cdab",
   "metadata": {},
   "source": []
  },
  {
   "cell_type": "code",
   "execution_count": 13,
   "id": "4da403ec-d15e-4081-a99d-ef53ce29e6be",
   "metadata": {},
   "outputs": [],
   "source": []
  },
  {
   "cell_type": "code",
   "execution_count": 14,
   "id": "623a01d0-52ca-4ffe-81af-5398b6399bb6",
   "metadata": {
    "tags": []
   },
   "outputs": [
    {
     "name": "stdout",
     "output_type": "stream",
     "text": [
      "Test acc:0.9721\n",
      "Train acc:0.97405\n"
     ]
    }
   ],
   "source": []
  },
  {
   "cell_type": "code",
   "execution_count": null,
   "id": "c941c477-6462-4a88-9119-030b14502e93",
   "metadata": {},
   "outputs": [],
   "source": []
  }
 ],
 "metadata": {
  "kernelspec": {
   "display_name": "Python 3 (ipykernel)",
   "language": "python",
   "name": "python3"
  },
  "language_info": {
   "codemirror_mode": {
    "name": "ipython",
    "version": 3
   },
   "file_extension": ".py",
   "mimetype": "text/x-python",
   "name": "python",
   "nbconvert_exporter": "python",
   "pygments_lexer": "ipython3",
   "version": "3.8.13"
  }
 },
 "nbformat": 4,
 "nbformat_minor": 5
}
