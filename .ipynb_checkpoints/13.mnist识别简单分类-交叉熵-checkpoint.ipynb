{
 "cells": [
  {
   "cell_type": "code",
   "execution_count": 1,
   "id": "010dae0a-ec14-4bbe-8e38-4418f3f79613",
   "metadata": {
    "tags": []
   },
   "outputs": [],
   "source": [
    "import numpy as np\n",
    "import torch\n",
    "from torch import nn, optim\n",
    "from torch.autograd import Variable\n",
    "from torchvision import datasets, transforms\n",
    "from torch.utils.data import DataLoader"
   ]
  },
  {
   "cell_type": "code",
   "execution_count": 2,
   "id": "17499625-a29a-48a9-a775-950305848cc8",
   "metadata": {
    "tags": []
   },
   "outputs": [],
   "source": [
    "# 训练集\n",
    "train_dataset = datasets.MNIST(root='./',\n",
    "                               train=True,\n",
    "                               transform=transforms.ToTensor(),\n",
    "                               download=True)\n",
    "# 测试集\n",
    "test_dataset = datasets.MNIST(root='./',\n",
    "                               train=False,\n",
    "                               transform=transforms.ToTensor(),\n",
    "                               download=True)"
   ]
  },
  {
   "cell_type": "code",
   "execution_count": 3,
   "id": "ed013657-0f53-4a75-8264-d9364f4b475f",
   "metadata": {
    "tags": []
   },
   "outputs": [],
   "source": [
    "# 批次大小\n",
    "Batch_size = 64\n",
    "\n",
    "# 装载训练集\n",
    "train_loader = DataLoader(dataset=train_dataset,\n",
    "                          batch_size=Batch_size,\n",
    "                          shuffle=True)\n",
    "\n",
    "# 装载训练集\n",
    "test_loader = DataLoader(dataset=test_dataset,\n",
    "                          batch_size=Batch_size,\n",
    "                          shuffle=True)"
   ]
  },
  {
   "cell_type": "code",
   "execution_count": 4,
   "id": "7bfd367f-0b40-48d4-8dac-1041c4519633",
   "metadata": {
    "tags": []
   },
   "outputs": [
    {
     "name": "stdout",
     "output_type": "stream",
     "text": [
      "torch.Size([64, 1, 28, 28])\n",
      "torch.Size([64])\n"
     ]
    }
   ],
   "source": [
    "for i, data in enumerate(train_loader):\n",
    "    inputs, labels = data\n",
    "    print(inputs.shape)\n",
    "    print(labels.shape)\n",
    "    break"
   ]
  },
  {
   "cell_type": "code",
   "execution_count": 5,
   "id": "8dd448c0-ff87-4502-aed8-5560441dfa45",
   "metadata": {
    "tags": []
   },
   "outputs": [
    {
     "data": {
      "text/plain": [
       "torch.Size([64, 1, 28, 28])"
      ]
     },
     "execution_count": 5,
     "metadata": {},
     "output_type": "execute_result"
    }
   ],
   "source": [
    "inputs.size()"
   ]
  },
  {
   "cell_type": "code",
   "execution_count": 6,
   "id": "05e2df2a-477a-4748-aeb9-3d506f7c9499",
   "metadata": {
    "tags": []
   },
   "outputs": [],
   "source": [
    "# 定义网络结构\n",
    "class Net(nn.Module):\n",
    "    def __init__(self):\n",
    "        super(Net, self).__init__()\n",
    "        self.fc1 = nn.Linear(784, 10)\n",
    "        self.softmax = nn.Softmax(dim=1)\n",
    "\n",
    "    def forward(self, x):\n",
    "        # ([64, 1, 28, 28]) - > (64 , 784)\n",
    "        x = x.view(x.size()[0], -1)\n",
    "        x = self.fc1(x)\n",
    "        x = self.softmax(x)\n",
    "        return x"
   ]
  },
  {
   "cell_type": "code",
   "execution_count": 8,
   "id": "b103ff07-3c94-4181-8921-9ff44c5beb63",
   "metadata": {},
   "outputs": [],
   "source": [
    "LR = 0.5\n",
    "model = Net()\n",
    "CrossEntropy_loss = nn.CrossEntropyLoss()\n",
    "optimizer = optim.SGD(model.parameters(), LR)"
   ]
  },
  {
   "cell_type": "code",
   "execution_count": 10,
   "id": "ed48e6e8-b4c2-4bc8-8f2f-2de4ff39737b",
   "metadata": {
    "tags": []
   },
   "outputs": [],
   "source": [
    "def train():\n",
    "    for i, data in enumerate(train_loader):\n",
    "        # 获得一个批次的数据和标签\n",
    "        inputs, labels = data\n",
    "        # 获得模型预测结果(64, 10)\n",
    "        out = model(inputs)\n",
    "        # 交叉熵代价函数out(batch,C),labels(batch)\n",
    "        loss = CrossEntropy_loss(out, labels)\n",
    "        # 梯度清零\n",
    "        optimizer.zero_grad()\n",
    "        # 计算梯度\n",
    "        loss.backward()\n",
    "        # 修改权值\n",
    "        optimizer.step()\n",
    "\n",
    "\n",
    "# 用于模型测试\n",
    "def test():\n",
    "    correct = 0\n",
    "    for i, data in enumerate(test_loader):\n",
    "        # 获得一个批次的数据和标签\n",
    "        inputs, labels = data\n",
    "        # 获得模型预测结果(64, 10)\n",
    "        out = model(inputs)\n",
    "        # 获得最大值，以及最大值所在的位置\n",
    "        _, predicted = torch.max(out, 1)\n",
    "        # 预测正确的数量\n",
    "        correct += (predicted == labels).sum()\n",
    "    print(\"Test acc:{0}\".format(correct.item()/len(test_dataset)))"
   ]
  },
  {
   "cell_type": "markdown",
   "id": "e119bd6e-3630-46b8-87cf-6593d3b3690e",
   "metadata": {},
   "source": [
    "#### 小结：\n",
    "> 手动打出这个训练流程你会发现相对于keras这种高度集成的API，torch需要从头到尾的用代码去实现神经网络的训练过程，所以其中有很多细节可以修改，当然之后可以尝试学习autoML，可以更快的调参"
   ]
  },
  {
   "cell_type": "code",
   "execution_count": null,
   "id": "62b77f31-90ca-444e-bcec-0b30be019b41",
   "metadata": {
    "tags": []
   },
   "outputs": [
    {
     "name": "stdout",
     "output_type": "stream",
     "text": [
      "epoch: 0\n",
      "Test acc:0.9052\n",
      "epoch: 1\n",
      "Test acc:0.9129\n",
      "epoch: 2\n",
      "Test acc:0.9169\n",
      "epoch: 3\n",
      "Test acc:0.9197\n",
      "epoch: 4\n",
      "Test acc:0.9199\n",
      "epoch: 5\n",
      "Test acc:0.9221\n",
      "epoch: 6\n"
     ]
    }
   ],
   "source": [
    "for epoch in range(10):\n",
    "    print('epoch:', epoch)\n",
    "    train()\n",
    "    test()"
   ]
  },
  {
   "cell_type": "code",
   "execution_count": null,
   "id": "8742f399-4ea1-4572-849b-080d9343f1b8",
   "metadata": {},
   "outputs": [],
   "source": []
  },
  {
   "cell_type": "markdown",
   "id": "01950417-e99d-48aa-ab36-59aedd53e5ee",
   "metadata": {},
   "source": []
  },
  {
   "cell_type": "markdown",
   "id": "b45a40f0-5a28-4163-bd87-63961387cdab",
   "metadata": {},
   "source": []
  },
  {
   "cell_type": "code",
   "execution_count": null,
   "id": "4da403ec-d15e-4081-a99d-ef53ce29e6be",
   "metadata": {},
   "outputs": [],
   "source": []
  }
 ],
 "metadata": {
  "kernelspec": {
   "display_name": "Python 3 (ipykernel)",
   "language": "python",
   "name": "python3"
  },
  "language_info": {
   "codemirror_mode": {
    "name": "ipython",
    "version": 3
   },
   "file_extension": ".py",
   "mimetype": "text/x-python",
   "name": "python",
   "nbconvert_exporter": "python",
   "pygments_lexer": "ipython3",
   "version": "3.8.13"
  }
 },
 "nbformat": 4,
 "nbformat_minor": 5
}
