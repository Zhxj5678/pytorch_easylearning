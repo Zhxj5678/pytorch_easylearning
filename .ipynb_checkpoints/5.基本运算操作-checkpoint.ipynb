{
 "cells": [
  {
   "cell_type": "code",
   "execution_count": 1,
   "id": "13917f10-246a-4b24-b6d1-9597766cdee5",
   "metadata": {},
   "outputs": [],
   "source": [
    "import torch"
   ]
  },
  {
   "cell_type": "code",
   "execution_count": 2,
   "id": "227300dd-a1de-424b-9269-42bd9a5fbe26",
   "metadata": {
    "tags": []
   },
   "outputs": [],
   "source": [
    "a = torch.randint(1, 5, (2, 3))"
   ]
  },
  {
   "cell_type": "code",
   "execution_count": 3,
   "id": "66b448a2-094e-417a-8229-31bbf9109bce",
   "metadata": {
    "tags": []
   },
   "outputs": [],
   "source": [
    "b = torch.randint(1, 5, (2, 3))"
   ]
  },
  {
   "cell_type": "code",
   "execution_count": 4,
   "id": "267d6e80-356c-4e9e-9d7f-baf08a9cbb59",
   "metadata": {
    "tags": []
   },
   "outputs": [
    {
     "data": {
      "text/plain": [
       "(tensor([[3, 1, 1],\n",
       "         [4, 3, 4]]),\n",
       " tensor([[4, 2, 4],\n",
       "         [3, 1, 2]]))"
      ]
     },
     "execution_count": 4,
     "metadata": {},
     "output_type": "execute_result"
    }
   ],
   "source": [
    "a,b"
   ]
  },
  {
   "cell_type": "code",
   "execution_count": 5,
   "id": "cfe9167f-3c64-4c0b-97c1-2fae5dca8de1",
   "metadata": {
    "tags": []
   },
   "outputs": [
    {
     "data": {
      "text/plain": [
       "tensor([[7, 3, 5],\n",
       "        [7, 4, 6]])"
      ]
     },
     "execution_count": 5,
     "metadata": {},
     "output_type": "execute_result"
    }
   ],
   "source": [
    "a + b"
   ]
  },
  {
   "cell_type": "code",
   "execution_count": 7,
   "id": "59ef42a3-8ff3-4556-b2c2-a5e450412caa",
   "metadata": {
    "tags": []
   },
   "outputs": [
    {
     "data": {
      "text/plain": [
       "tensor([[7, 3, 5],\n",
       "        [7, 4, 6]])"
      ]
     },
     "execution_count": 7,
     "metadata": {},
     "output_type": "execute_result"
    }
   ],
   "source": [
    "torch.add(a, b)"
   ]
  },
  {
   "cell_type": "code",
   "execution_count": 8,
   "id": "118f7e4b-6080-4a7b-a347-6eb7bc485029",
   "metadata": {
    "tags": []
   },
   "outputs": [
    {
     "data": {
      "text/plain": [
       "tensor([[7., 3., 5.],\n",
       "        [7., 4., 6.]])"
      ]
     },
     "execution_count": 8,
     "metadata": {},
     "output_type": "execute_result"
    }
   ],
   "source": [
    "result = torch.zeros(2, 3)\n",
    "torch.add(a, b, out = result)"
   ]
  },
  {
   "cell_type": "code",
   "execution_count": 9,
   "id": "a687313d-5840-453a-9b0c-ff103d16c568",
   "metadata": {
    "tags": []
   },
   "outputs": [
    {
     "data": {
      "text/plain": [
       "tensor([[7., 3., 5.],\n",
       "        [7., 4., 6.]])"
      ]
     },
     "execution_count": 9,
     "metadata": {},
     "output_type": "execute_result"
    }
   ],
   "source": [
    "result"
   ]
  },
  {
   "cell_type": "code",
   "execution_count": 12,
   "id": "e7456331-5986-4316-b692-be8597170539",
   "metadata": {
    "tags": []
   },
   "outputs": [
    {
     "data": {
      "text/plain": [
       "tensor([[15,  7, 13],\n",
       "        [13,  6, 10]])"
      ]
     },
     "execution_count": 12,
     "metadata": {},
     "output_type": "execute_result"
    }
   ],
   "source": [
    "# a = a + b\n",
    "# 注意：任何使张量tensor会发生变化的操作都有一个前缀‘_’下划线。例如：a.add_(),b.sub_()\n",
    "a.add_(b)"
   ]
  },
  {
   "cell_type": "code",
   "execution_count": 14,
   "id": "1003932d-a044-4142-af2b-187813086450",
   "metadata": {
    "tags": []
   },
   "outputs": [
    {
     "data": {
      "text/plain": [
       "tensor([[7, 3, 5],\n",
       "        [7, 4, 6]])"
      ]
     },
     "execution_count": 14,
     "metadata": {},
     "output_type": "execute_result"
    }
   ],
   "source": [
    "a.sub_(b)"
   ]
  },
  {
   "cell_type": "code",
   "execution_count": 15,
   "id": "93c040d5-e88d-4995-bbfb-55e863f1eeb8",
   "metadata": {
    "tags": []
   },
   "outputs": [
    {
     "data": {
      "text/plain": [
       "tensor([[28,  6, 20],\n",
       "        [21,  4, 12]])"
      ]
     },
     "execution_count": 15,
     "metadata": {},
     "output_type": "execute_result"
    }
   ],
   "source": [
    "a * b"
   ]
  },
  {
   "cell_type": "code",
   "execution_count": 16,
   "id": "17444a46-2edc-4fdf-834b-92079a7649ca",
   "metadata": {
    "tags": []
   },
   "outputs": [
    {
     "data": {
      "text/plain": [
       "tensor([[1.7500, 1.5000, 1.2500],\n",
       "        [2.3333, 4.0000, 3.0000]])"
      ]
     },
     "execution_count": 16,
     "metadata": {},
     "output_type": "execute_result"
    }
   ],
   "source": [
    "a / b"
   ]
  },
  {
   "cell_type": "code",
   "execution_count": 20,
   "id": "0196a097-98ee-4bcd-a04a-3a56e4e1e225",
   "metadata": {
    "tags": []
   },
   "outputs": [
    {
     "data": {
      "text/plain": [
       "(tensor([[7, 3, 5],\n",
       "         [7, 4, 6]]),\n",
       " tensor([[4, 2, 4],\n",
       "         [3, 1, 2]]))"
      ]
     },
     "execution_count": 20,
     "metadata": {},
     "output_type": "execute_result"
    }
   ],
   "source": [
    "a,b"
   ]
  },
  {
   "cell_type": "code",
   "execution_count": 17,
   "id": "b58e3619-c204-4243-be00-4adebaf1cd07",
   "metadata": {
    "tags": []
   },
   "outputs": [
    {
     "data": {
      "text/plain": [
       "tensor([[3, 1, 1],\n",
       "        [1, 0, 0]])"
      ]
     },
     "execution_count": 17,
     "metadata": {},
     "output_type": "execute_result"
    }
   ],
   "source": [
    "# 取余数\n",
    "a % b"
   ]
  },
  {
   "cell_type": "code",
   "execution_count": null,
   "id": "7c864307-f783-44a1-827e-949127c0d047",
   "metadata": {},
   "outputs": [],
   "source": []
  },
  {
   "cell_type": "code",
   "execution_count": 18,
   "id": "98471677-bfa0-4ead-bf81-f77d580c9833",
   "metadata": {
    "tags": []
   },
   "outputs": [
    {
     "name": "stderr",
     "output_type": "stream",
     "text": [
      "C:\\Users\\lenovo\\AppData\\Local\\Temp\\ipykernel_20968\\3774276598.py:1: UserWarning: __floordiv__ is deprecated, and its behavior will change in a future version of pytorch. It currently rounds toward 0 (like the 'trunc' function NOT 'floor'). This results in incorrect rounding for negative values. To keep the current behavior, use torch.div(a, b, rounding_mode='trunc'), or for actual floor division, use torch.div(a, b, rounding_mode='floor').\n",
      "  a // b\n"
     ]
    },
    {
     "data": {
      "text/plain": [
       "tensor([[1, 1, 1],\n",
       "        [2, 4, 3]])"
      ]
     },
     "execution_count": 18,
     "metadata": {},
     "output_type": "execute_result"
    }
   ],
   "source": [
    "# 地板除法，取整数，\n",
    "a // b"
   ]
  },
  {
   "cell_type": "code",
   "execution_count": 21,
   "id": "a151c2e0-8b7f-489e-818c-61fcee2a9940",
   "metadata": {
    "tags": []
   },
   "outputs": [
    {
     "data": {
      "text/plain": [
       "tensor([[1.7500, 1.5000, 1.2500],\n",
       "        [2.3333, 4.0000, 3.0000]])"
      ]
     },
     "execution_count": 21,
     "metadata": {},
     "output_type": "execute_result"
    }
   ],
   "source": [
    "a / b"
   ]
  },
  {
   "cell_type": "code",
   "execution_count": 22,
   "id": "5b70e4d3-7abe-4ad4-854d-b3f8c67cd8fa",
   "metadata": {
    "tags": []
   },
   "outputs": [],
   "source": [
    "tensor = torch.ones(3, 5)"
   ]
  },
  {
   "cell_type": "code",
   "execution_count": 23,
   "id": "a423aad8-b9f2-4e38-8aa8-8f97e1813a75",
   "metadata": {
    "tags": []
   },
   "outputs": [
    {
     "data": {
      "text/plain": [
       "tensor([[7, 3, 5],\n",
       "        [7, 4, 6]])"
      ]
     },
     "execution_count": 23,
     "metadata": {},
     "output_type": "execute_result"
    }
   ],
   "source": [
    "a"
   ]
  },
  {
   "cell_type": "code",
   "execution_count": 24,
   "id": "74d661cf-ce53-485e-83a8-2e74ca0056eb",
   "metadata": {
    "tags": []
   },
   "outputs": [
    {
     "ename": "RuntimeError",
     "evalue": "expected scalar type Long but found Float",
     "output_type": "error",
     "traceback": [
      "\u001b[1;31m---------------------------------------------------------------------------\u001b[0m",
      "\u001b[1;31mRuntimeError\u001b[0m                              Traceback (most recent call last)",
      "Cell \u001b[1;32mIn[24], line 1\u001b[0m\n\u001b[1;32m----> 1\u001b[0m \u001b[43mtorch\u001b[49m\u001b[38;5;241;43m.\u001b[39;49m\u001b[43mmatmul\u001b[49m\u001b[43m(\u001b[49m\u001b[43ma\u001b[49m\u001b[43m,\u001b[49m\u001b[43m \u001b[49m\u001b[43mtensor\u001b[49m\u001b[43m)\u001b[49m\n",
      "\u001b[1;31mRuntimeError\u001b[0m: expected scalar type Long but found Float"
     ]
    }
   ],
   "source": [
    "torch.matmul(a, tensor)"
   ]
  },
  {
   "cell_type": "code",
   "execution_count": 25,
   "id": "7ec167dd-d633-4bdc-9872-656f837b73f9",
   "metadata": {
    "tags": []
   },
   "outputs": [
    {
     "data": {
      "text/plain": [
       "torch.int64"
      ]
     },
     "execution_count": 25,
     "metadata": {},
     "output_type": "execute_result"
    }
   ],
   "source": [
    "a.dtype"
   ]
  },
  {
   "cell_type": "code",
   "execution_count": 26,
   "id": "01789860-726a-4d19-929c-2602f5214d80",
   "metadata": {
    "tags": []
   },
   "outputs": [
    {
     "data": {
      "text/plain": [
       "torch.float32"
      ]
     },
     "execution_count": 26,
     "metadata": {},
     "output_type": "execute_result"
    }
   ],
   "source": [
    "tensor.dtype"
   ]
  },
  {
   "cell_type": "code",
   "execution_count": 27,
   "id": "2834abcf-80f9-4e34-8201-4c6888eb62cd",
   "metadata": {
    "tags": []
   },
   "outputs": [],
   "source": [
    "a = a.float()"
   ]
  },
  {
   "cell_type": "code",
   "execution_count": 28,
   "id": "df1cba1e-636a-475c-ba18-4d360de3ff1d",
   "metadata": {
    "tags": []
   },
   "outputs": [
    {
     "data": {
      "text/plain": [
       "tensor([[15., 15., 15., 15., 15.],\n",
       "        [17., 17., 17., 17., 17.]])"
      ]
     },
     "execution_count": 28,
     "metadata": {},
     "output_type": "execute_result"
    }
   ],
   "source": [
    "torch.matmul(a, tensor)"
   ]
  },
  {
   "cell_type": "code",
   "execution_count": null,
   "id": "e78777be-6efb-4d1a-aa66-5350bad97265",
   "metadata": {},
   "outputs": [],
   "source": []
  },
  {
   "cell_type": "code",
   "execution_count": 1,
   "id": "fd57df39-7cd3-4da8-aae9-604fcf27e92a",
   "metadata": {
    "tags": []
   },
   "outputs": [],
   "source": [
    "import torch"
   ]
  },
  {
   "cell_type": "code",
   "execution_count": 2,
   "id": "b8d27d9f-2f07-43e0-8805-81d13899e204",
   "metadata": {
    "tags": []
   },
   "outputs": [],
   "source": [
    "sample = torch.rand(2, 3)"
   ]
  },
  {
   "cell_type": "code",
   "execution_count": 3,
   "id": "022cb0b9-5bc0-49a9-ab2f-a35a386ad85a",
   "metadata": {
    "tags": []
   },
   "outputs": [
    {
     "data": {
      "text/plain": [
       "tensor([[0.8451, 0.0116, 0.2443],\n",
       "        [0.9405, 0.0347, 0.7215]])"
      ]
     },
     "execution_count": 3,
     "metadata": {},
     "output_type": "execute_result"
    }
   ],
   "source": [
    "sample"
   ]
  },
  {
   "cell_type": "code",
   "execution_count": 6,
   "id": "9dc435bf-bbf4-4ddc-87d7-82c662d4af6c",
   "metadata": {
    "tags": []
   },
   "outputs": [
    {
     "data": {
      "text/plain": [
       "tensor(2.7978)"
      ]
     },
     "execution_count": 6,
     "metadata": {},
     "output_type": "execute_result"
    }
   ],
   "source": [
    "torch.sum(sample)"
   ]
  },
  {
   "cell_type": "code",
   "execution_count": 10,
   "id": "bee1da1f-e11e-495b-8117-1c50a3ed88b9",
   "metadata": {
    "tags": []
   },
   "outputs": [
    {
     "data": {
      "text/plain": [
       "tensor(0.0116)"
      ]
     },
     "execution_count": 10,
     "metadata": {},
     "output_type": "execute_result"
    }
   ],
   "source": [
    "torch.min(sample)"
   ]
  },
  {
   "cell_type": "code",
   "execution_count": 9,
   "id": "97219f6d-575e-498e-b811-688a4350a172",
   "metadata": {
    "tags": []
   },
   "outputs": [
    {
     "data": {
      "text/plain": [
       "tensor(0.9405)"
      ]
     },
     "execution_count": 9,
     "metadata": {},
     "output_type": "execute_result"
    }
   ],
   "source": [
    "torch.max(sample)"
   ]
  },
  {
   "cell_type": "code",
   "execution_count": 11,
   "id": "70207d0a-7714-4477-84fb-4a47ae3471b9",
   "metadata": {
    "tags": []
   },
   "outputs": [
    {
     "data": {
      "text/plain": [
       "tensor(1)"
      ]
     },
     "execution_count": 11,
     "metadata": {},
     "output_type": "execute_result"
    }
   ],
   "source": [
    "# 求最小值索引\n",
    "torch.argmin(sample)"
   ]
  },
  {
   "cell_type": "code",
   "execution_count": 12,
   "id": "25c18c9d-a368-49ed-a0cb-aabdb0e25a89",
   "metadata": {
    "tags": []
   },
   "outputs": [
    {
     "data": {
      "text/plain": [
       "tensor(3)"
      ]
     },
     "execution_count": 12,
     "metadata": {},
     "output_type": "execute_result"
    }
   ],
   "source": [
    "torch.argmax(sample)"
   ]
  },
  {
   "cell_type": "markdown",
   "id": "19996908-3fc9-4b12-bdb7-e2e906ef8524",
   "metadata": {},
   "source": [
    "#### 小感想：\n",
    "* torch（或者tensorflow）神经网络框架学起来和opencv一样就是一个深度学习框架或者叫库，主要是去理解其背后的数学原理和学科理论，所以在了解工具的使用之后，一定一定要去学习专业的基础，去找大佬，去找文献去读，网上的学习资料都是站在伟人的和大团队的肩膀上去看去学，这样才能走的长远。\n",
    "* 李沐的花树和机器学习方面的李宏毅、然后去找顶刊\n",
    "* 对于思考的处理可以做一些系统性的简介解释和总分，这是一种表达的逻辑感，你要有一定的秩序感\n",
    "#### 维基百科【机器学习】\n",
    ">  机器学习是人工智能的一个分支。人工智能的研究历史有着一条从以“推理”为重点，到以“知识”为重点，再到以“学习”为重点的自然、清晰的脉络。显然，机器学习是实现人工智能的一个途径之一，即以机器学习为手段，解决人工智能中的部分问题。机器学习在近30多年已发展为一门多领域科际集成，**涉及概率论、统计学、逼近论、凸分析、计算复杂性理论等多门学科**。\n",
    "\n",
    ">  机器学习理论主要是设计和分析一些让计算机可以自动“学习”的算法。机器学习算法是一类从数据中自动分析获得规律，并利用规律对未知数据进行预测的算法。因为学习算法中涉及了大量的统计学理论，机器学习与推断统计学联系尤为密切，也被称为统计学习理论。算法设计方面，机器学习理论关注可以实现的，行之有效的学习算法（要防止错误累积）。很多推论问题属于非程序化決策，所以部分的机器学习研究是开发容易处理的近似算法。\n",
    "\n",
    ">  机器学习已广泛应用于数据挖掘、计算机视觉、自然语言处理、生物特征识别、搜索引擎、医学诊断、检测信用卡欺诈、证券市场分析、DNA序列测序、语音和手写识别、游戏和机器人等领域。"
   ]
  },
  {
   "cell_type": "code",
   "execution_count": 13,
   "id": "d622098d-5d33-464f-a77d-cf0f371b6f7a",
   "metadata": {
    "tags": []
   },
   "outputs": [
    {
     "data": {
      "text/plain": [
       "tensor(0.4663)"
      ]
     },
     "execution_count": 13,
     "metadata": {},
     "output_type": "execute_result"
    }
   ],
   "source": [
    "torch.mean(sample)"
   ]
  },
  {
   "cell_type": "code",
   "execution_count": 14,
   "id": "2ab6c3de-ca16-4d5e-8e9a-8dcfd382082e",
   "metadata": {
    "tags": []
   },
   "outputs": [
    {
     "data": {
      "text/plain": [
       "tensor(0.2443)"
      ]
     },
     "execution_count": 14,
     "metadata": {},
     "output_type": "execute_result"
    }
   ],
   "source": [
    "torch.median(sample)"
   ]
  },
  {
   "cell_type": "code",
   "execution_count": 15,
   "id": "dd7a4b56-6bd4-4382-9861-355b1305ce7b",
   "metadata": {
    "tags": []
   },
   "outputs": [
    {
     "data": {
      "text/plain": [
       "tensor([[0.9193, 0.1076, 0.4943],\n",
       "        [0.9698, 0.1864, 0.8494]])"
      ]
     },
     "execution_count": 15,
     "metadata": {},
     "output_type": "execute_result"
    }
   ],
   "source": [
    "torch.sqrt(sample)"
   ]
  },
  {
   "cell_type": "code",
   "execution_count": 17,
   "id": "a13bcd22-93de-4814-aace-d403a107e669",
   "metadata": {
    "tags": []
   },
   "outputs": [
    {
     "data": {
      "text/plain": [
       "tensor([[7.1416e-01, 1.3393e-04, 5.9698e-02],\n",
       "        [8.8457e-01, 1.2060e-03, 5.2061e-01]])"
      ]
     },
     "execution_count": 17,
     "metadata": {},
     "output_type": "execute_result"
    }
   ],
   "source": [
    "sample ** 2"
   ]
  },
  {
   "cell_type": "code",
   "execution_count": null,
   "id": "1b580843-c560-421d-891a-d82e19213d34",
   "metadata": {},
   "outputs": [],
   "source": []
  }
 ],
 "metadata": {
  "kernelspec": {
   "display_name": "Python 3 (ipykernel)",
   "language": "python",
   "name": "python3"
  },
  "language_info": {
   "codemirror_mode": {
    "name": "ipython",
    "version": 3
   },
   "file_extension": ".py",
   "mimetype": "text/x-python",
   "name": "python",
   "nbconvert_exporter": "python",
   "pygments_lexer": "ipython3",
   "version": "3.8.13"
  }
 },
 "nbformat": 4,
 "nbformat_minor": 5
}
