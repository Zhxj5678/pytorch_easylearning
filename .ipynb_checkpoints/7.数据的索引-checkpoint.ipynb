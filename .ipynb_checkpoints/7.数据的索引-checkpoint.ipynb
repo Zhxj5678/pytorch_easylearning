{
 "cells": [
  {
   "cell_type": "code",
   "execution_count": 1,
   "id": "58332822-23b2-46ad-b6b4-763e92c1c151",
   "metadata": {
    "tags": []
   },
   "outputs": [],
   "source": [
    "import torch"
   ]
  },
  {
   "cell_type": "code",
   "execution_count": 2,
   "id": "87dff267-5106-479b-9cac-a168b6b93277",
   "metadata": {
    "tags": []
   },
   "outputs": [],
   "source": [
    "tensor = torch.arange(2, 14)"
   ]
  },
  {
   "cell_type": "code",
   "execution_count": 3,
   "id": "b16caf4e-b4b7-47b3-b72a-9c519b0a353a",
   "metadata": {
    "tags": []
   },
   "outputs": [
    {
     "data": {
      "text/plain": [
       "tensor([ 2,  3,  4,  5,  6,  7,  8,  9, 10, 11, 12, 13])"
      ]
     },
     "execution_count": 3,
     "metadata": {},
     "output_type": "execute_result"
    }
   ],
   "source": [
    "tensor"
   ]
  },
  {
   "cell_type": "code",
   "execution_count": 8,
   "id": "0258900d-7b67-4db8-a12f-4f16ab1e9100",
   "metadata": {
    "tags": []
   },
   "outputs": [
    {
     "data": {
      "text/plain": [
       "tensor([ 2,  3,  4,  5,  6,  7,  8,  9, 10, 11, 12])"
      ]
     },
     "execution_count": 8,
     "metadata": {},
     "output_type": "execute_result"
    }
   ],
   "source": [
    "tensor[0:-1]"
   ]
  },
  {
   "cell_type": "code",
   "execution_count": 6,
   "id": "b3da6466-bc4a-4775-8e47-b8c168d5e4f5",
   "metadata": {
    "tags": []
   },
   "outputs": [
    {
     "data": {
      "text/plain": [
       "tensor([ 2,  3,  4,  5,  6,  7,  8,  9, 10, 11, 12, 13])"
      ]
     },
     "execution_count": 6,
     "metadata": {},
     "output_type": "execute_result"
    }
   ],
   "source": [
    "tensor[:]"
   ]
  },
  {
   "cell_type": "code",
   "execution_count": 9,
   "id": "baad93bd-4454-4856-a2ac-723596a2bb04",
   "metadata": {
    "tags": []
   },
   "outputs": [
    {
     "data": {
      "text/plain": [
       "tensor([2])"
      ]
     },
     "execution_count": 9,
     "metadata": {},
     "output_type": "execute_result"
    }
   ],
   "source": [
    "tensor[0:1]"
   ]
  },
  {
   "cell_type": "code",
   "execution_count": 11,
   "id": "98a73b29-7ae1-4ce6-819c-388e378e34de",
   "metadata": {
    "tags": []
   },
   "outputs": [
    {
     "data": {
      "text/plain": [
       "tensor([ 2,  3,  4,  5,  6,  7,  8,  9, 10, 11, 12, 13])"
      ]
     },
     "execution_count": 11,
     "metadata": {},
     "output_type": "execute_result"
    }
   ],
   "source": [
    "tensor[0:]"
   ]
  },
  {
   "cell_type": "code",
   "execution_count": 12,
   "id": "4963994e-d8bf-471b-aba5-80a1e46e2200",
   "metadata": {
    "tags": []
   },
   "outputs": [
    {
     "data": {
      "text/plain": [
       "tensor([10, 11, 12, 13])"
      ]
     },
     "execution_count": 12,
     "metadata": {},
     "output_type": "execute_result"
    }
   ],
   "source": [
    "tensor[-4:]"
   ]
  },
  {
   "cell_type": "code",
   "execution_count": 14,
   "id": "99dc3bfb-26a3-428e-8988-ac69baec8a9d",
   "metadata": {
    "tags": []
   },
   "outputs": [
    {
     "data": {
      "text/plain": [
       "tensor([ 3,  5,  7,  9, 11,  3,  3,  3])"
      ]
     },
     "execution_count": 14,
     "metadata": {},
     "output_type": "execute_result"
    }
   ],
   "source": [
    "index=[1,3,5,7,9,1,1,1]\n",
    "tensor[index]"
   ]
  },
  {
   "cell_type": "code",
   "execution_count": 17,
   "id": "2f6d8f72-c4e9-43a4-97bc-62a176017ac7",
   "metadata": {
    "tags": []
   },
   "outputs": [
    {
     "name": "stdout",
     "output_type": "stream",
     "text": [
      "tensor(2)\n",
      "tensor(3)\n",
      "tensor(4)\n",
      "tensor(5)\n",
      "tensor(6)\n",
      "tensor(7)\n",
      "tensor(8)\n",
      "tensor(9)\n",
      "tensor(10)\n",
      "tensor(11)\n",
      "tensor(12)\n",
      "tensor(13)\n"
     ]
    }
   ],
   "source": [
    "for t in tensor:\n",
    "    print(t)"
   ]
  },
  {
   "cell_type": "code",
   "execution_count": null,
   "id": "1f68d595-9a4a-4288-a406-06fca9d1be50",
   "metadata": {},
   "outputs": [],
   "source": []
  }
 ],
 "metadata": {
  "kernelspec": {
   "display_name": "Python 3 (ipykernel)",
   "language": "python",
   "name": "python3"
  },
  "language_info": {
   "codemirror_mode": {
    "name": "ipython",
    "version": 3
   },
   "file_extension": ".py",
   "mimetype": "text/x-python",
   "name": "python",
   "nbconvert_exporter": "python",
   "pygments_lexer": "ipython3",
   "version": "3.8.13"
  }
 },
 "nbformat": 4,
 "nbformat_minor": 5
}
